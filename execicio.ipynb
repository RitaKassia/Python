{
 "cells": [
  {
   "attachments": {},
   "cell_type": "markdown",
   "metadata": {},
   "source": [
    "Curso de Python"
   ]
  },
  {
   "cell_type": "code",
   "execution_count": 30,
   "metadata": {},
   "outputs": [
    {
     "name": "stdout",
     "output_type": "stream",
     "text": [
      "5\n"
     ]
    }
   ],
   "source": [
    "print(3+2)"
   ]
  },
  {
   "cell_type": "code",
   "execution_count": 31,
   "metadata": {},
   "outputs": [
    {
     "name": "stdout",
     "output_type": "stream",
     "text": [
      "5\n",
      "1\n",
      "6\n",
      "1.5\n",
      "1.5\n",
      "1\n",
      "1\n",
      "0\n",
      "9\n",
      "9\n"
     ]
    }
   ],
   "source": [
    "print(3+2)\n",
    "\n",
    "print(3-2)\n",
    "\n",
    "print(3*2)\n",
    "\n",
    "print(3/2)\n",
    "\n",
    "print(3/2)\n",
    "\n",
    "print(3//2)\n",
    "\n",
    "print(3%2)\n",
    "\n",
    "print(10%2)\n",
    "\n",
    "print(3**2)\n",
    "\n",
    "print(pow(3, 2))"
   ]
  },
  {
   "attachments": {},
   "cell_type": "markdown",
   "metadata": {},
   "source": []
  },
  {
   "cell_type": "code",
   "execution_count": 32,
   "metadata": {},
   "outputs": [
    {
     "data": {
      "text/plain": [
       "True"
      ]
     },
     "execution_count": 32,
     "metadata": {},
     "output_type": "execute_result"
    }
   ],
   "source": [
    "3 == 2\n",
    "\n",
    "2 == 2\n",
    "\n",
    "3 != 2\n",
    "\n"
   ]
  },
  {
   "attachments": {},
   "cell_type": "markdown",
   "metadata": {},
   "source": [
    "Atribuiçao"
   ]
  },
  {
   "cell_type": "code",
   "execution_count": 33,
   "metadata": {},
   "outputs": [],
   "source": [
    "x = 10\n",
    "x += 2 # x = x + 2\n",
    "x -= 2 # x = x - 2\n",
    "x *= 2 # x = x * 2\n",
    "x /= 2 # x = x / 2\n",
    "x //= 2 # x = x // 2\n",
    "x **= 2 # x = x ** 2\n",
    "x %= 2 # x = x % 2\n",
    "\n"
   ]
  },
  {
   "attachments": {},
   "cell_type": "markdown",
   "metadata": {},
   "source": [
    "Oeradores logicos em Python"
   ]
  },
  {
   "cell_type": "code",
   "execution_count": 34,
   "metadata": {},
   "outputs": [],
   "source": [
    "\n",
    "# and \n",
    "# False(0) + False(0) = False(0)\n",
    "# True(1)  + False(0) = False(0)\n",
    "# False(0) + True(1)  = False(0)\n",
    "# True(1)  + True(1)  = True(1)\n",
    "\n",
    "# or\n",
    "# False(0) + False(0) = False(0)\n",
    "# True(1)  + False(0) = True(1)\n",
    "# False(0) + True(1)  = True(1)\n",
    "# True(1)  + True(1)  = True(1)\n",
    "\n",
    "# !(not)\n",
    "# False (0) = True(1)\n",
    "# True(1)   = False(0)\n",
    "\n"
   ]
  },
  {
   "attachments": {},
   "cell_type": "markdown",
   "metadata": {},
   "source": [
    "Estrutura Condicionais"
   ]
  },
  {
   "cell_type": "code",
   "execution_count": 45,
   "metadata": {},
   "outputs": [
    {
     "name": "stdout",
     "output_type": "stream",
     "text": [
      "voce esta na maior idade\n"
     ]
    }
   ],
   "source": [
    "idade = int(input(\"Digite sua idade:\"))\n",
    "\n",
    "if idade>17:\n",
    "    print(\"voce esta na maior idade\")\n",
    "\n",
    "elif 12<idade<=17:\n",
    "    print(\"voce e menor de idade\")\n",
    "\n",
    "else:\n",
    "    print(\"você e uma criança\")\n",
    "\n",
    "\n",
    "\n",
    "\n",
    "\n"
   ]
  },
  {
   "attachments": {},
   "cell_type": "markdown",
   "metadata": {},
   "source": [
    "Execicio de Fixação"
   ]
  },
  {
   "cell_type": "code",
   "execution_count": 1,
   "metadata": {},
   "outputs": [
    {
     "name": "stdout",
     "output_type": "stream",
     "text": [
      "seu novo salario e de:1400.0\n"
     ]
    }
   ],
   "source": [
    "#Execicio 1\n",
    "\n",
    "cargo1 = \"Programador\" #50\n",
    "cargo2 = \"Analista de Sistema\", #40\n",
    "cargo3 = \"Analista de Banco de dados\" #30\n",
    "\n",
    "cargo = input(\"Digite seu cargo: Programador, Analista de Sitemas e Analista de Banco de Dados\")\n",
    "salario =float(input(\"Digite o valor do seu salario: \"))\n",
    "\n",
    "if cargo == \"Programador\":\n",
    "    aumento=(salario*1.5)\n",
    "    print(f\"seu novo salario e de:{aumento}\") \n",
    "\n",
    "elif cargo == \"Analista de Sistema\":\n",
    "    aumento=(salario*1.4)\n",
    "    print(f\"seu novo salario e de:{aumento}\") \n",
    "\n",
    "elif cargo == \"Analista de Banco de Dados\":\n",
    "    aumento=(salario*1.3)\n",
    "    print(f\"seu novo salario e de: {aumento}\") \n",
    "\n",
    "else:\n",
    "    print(\"seu cargo não foi encontrado em nosso banco de dados, tente novamente ou procure nossa central\")\n",
    "\n",
    "\n",
    "\n",
    "\n"
   ]
  },
  {
   "cell_type": "code",
   "execution_count": 7,
   "metadata": {},
   "outputs": [
    {
     "name": "stdout",
     "output_type": "stream",
     "text": [
      "Sexo não indetificado\n"
     ]
    }
   ],
   "source": [
    "#Execicio2\n",
    "\n",
    "sexo = input (\"digite seu sexo (M|F)\")\n",
    "altura = float(input(\"digite sua altura: \"))\n",
    "\n",
    "\n",
    "if sexo.upper() == \"F\":\n",
    "    peso = (72.7 * altura) - 58\n",
    "    print(f\"Seu pesso ideal é de: {peso:,.2f}\")\n",
    "\n",
    "elif sexo.upper() =='M':\n",
    "    peso = (62.1 * altura) - 44.7\n",
    "    print(f\"Seu pesso ideal é de: {peso:,.2f}\")\n",
    "\n",
    "else:\n",
    "    print(\"Sexo não indetificado\")    "
   ]
  },
  {
   "cell_type": "code",
   "execution_count": 58,
   "metadata": {},
   "outputs": [
    {
     "name": "stdout",
     "output_type": "stream",
     "text": [
      "#1\n"
     ]
    }
   ],
   "source": [
    "a = 1\n",
    "b = -3\n",
    "c = -10\n",
    "\n",
    "delta = (b*b) - (4*a*c)\n",
    "\n",
    "if (delta>0):\n",
    "    print(\"#1\")\n",
    "\n",
    "elif (delta == 0):\n",
    "    print(\"#2\")\n",
    "\n",
    "elif (delta<0):\n",
    "    print(\"#3\")\n",
    "\n",
    "else:\n",
    "    print(\"#4\")\n"
   ]
  },
  {
   "cell_type": "code",
   "execution_count": 59,
   "metadata": {},
   "outputs": [
    {
     "name": "stdout",
     "output_type": "stream",
     "text": [
      "python para caloros\n"
     ]
    }
   ],
   "source": [
    "x = 2\n",
    "y = 3\n",
    "\n",
    "if (x>y%2):\n",
    "    print(\"python para caloros\")"
   ]
  },
  {
   "attachments": {},
   "cell_type": "markdown",
   "metadata": {},
   "source": [
    "Estrutura de repertição"
   ]
  },
  {
   "cell_type": "code",
   "execution_count": 10,
   "metadata": {},
   "outputs": [
    {
     "ename": "IndentationError",
     "evalue": "expected an indented block (2048753647.py, line 5)",
     "output_type": "error",
     "traceback": [
      "\u001b[0;36m  Cell \u001b[0;32mIn[10], line 5\u001b[0;36m\u001b[0m\n\u001b[0;31m    if x == 1:\u001b[0m\n\u001b[0m    ^\u001b[0m\n\u001b[0;31mIndentationError\u001b[0m\u001b[0;31m:\u001b[0m expected an indented block\n"
     ]
    }
   ],
   "source": [
    "x = []\n",
    "\n",
    "for x in range(1, 56):\n",
    "\n",
    "if (x == 1):\n",
    "    print(\"ABC campeão 1 vez\")\n",
    "else:\n",
    "    print(f\"ABC campeão{x}vezes\")"
   ]
  },
  {
   "cell_type": "code",
   "execution_count": 74,
   "metadata": {},
   "outputs": [
    {
     "name": "stdout",
     "output_type": "stream",
     "text": [
      "Covid-19\n",
      "suspeitos de covid-19:  1\n",
      "suspeitos de covid-19:  2\n"
     ]
    }
   ],
   "source": [
    "print(\"Covid-19\")\n",
    "\n",
    "suspeitos = 0\n",
    "num_pac =int(input(\"Informe a quantidade de pacientes: \"))\n",
    "\n",
    "for x in range(num_pac):\n",
    "\n",
    "    tosse =  int(input(\"Tosse? \\n1. Sim \\n2. Não \\nR.:\"))\n",
    "    febre =  int(input(\"Febre? \\n1. Sim \\n2. Não \\nR.:\"))\n",
    "    resp =   int(input(\"Dificuldade de respirar? \\n1. Sim \\n2. Não \\nR.:\"))\n",
    "\n",
    "    if tosse==1 and febre==1 and resp==1:\n",
    "        suspeitos +=1 \n",
    "    \n",
    "    print(\"suspeitos de covid-19: \", (suspeitos))"
   ]
  },
  {
   "attachments": {},
   "cell_type": "markdown",
   "metadata": {},
   "source": [
    "while"
   ]
  },
  {
   "cell_type": "code",
   "execution_count": 79,
   "metadata": {},
   "outputs": [
    {
     "name": "stdout",
     "output_type": "stream",
     "text": [
      "Covid-19\n",
      "suspeitos de covid-19:  2\n"
     ]
    }
   ],
   "source": [
    "print(\"Covid-19\")\n",
    "\n",
    "suspeitos = 0\n",
    "num_pac =int(input(\"Informe a quantidade de pacientes: \"))\n",
    "cont = 1\n",
    "\n",
    "while cont <=num_pac:\n",
    "\n",
    "\n",
    "    tosse =  int(input(\"Tosse? \\n1. Sim \\n2. Não \\nR.:\"))\n",
    "    febre =  int(input(\"Febre? \\n1. Sim \\n2. Não \\nR.:\"))\n",
    "    resp =   int(input(\"Dificuldade de respirar? \\n1. Sim \\n2. Não \\nR.:\"))\n",
    "\n",
    "    if tosse==1 and febre==1 and resp==1:\n",
    "        suspeitos +=1 \n",
    "\n",
    "    cont +=1\n",
    "\n",
    "print(\"suspeitos de covid-19: \", (suspeitos))"
   ]
  },
  {
   "attachments": {},
   "cell_type": "markdown",
   "metadata": {},
   "source": [
    "Break e Continue"
   ]
  },
  {
   "cell_type": "code",
   "execution_count": 3,
   "metadata": {},
   "outputs": [
    {
     "name": "stdout",
     "output_type": "stream",
     "text": [
      "Covid-19\n",
      "suspeitos de covid-19:  1\n"
     ]
    }
   ],
   "source": [
    "print(\"Covid-19\")\n",
    "\n",
    "suspeitos = 0\n",
    "\n",
    "\n",
    "while True:\n",
    "\n",
    "\n",
    "    tosse =  int(input(\"Tosse? \\n1. Sim \\n2. Não \\nR.:\"))\n",
    "    febre =  int(input(\"Febre? \\n1. Sim \\n2. Não \\nR.:\"))\n",
    "    resp =   int(input(\"Dificuldade de respirar? \\n1. Sim \\n2. Não \\nR.:\"))\n",
    "\n",
    "    if tosse==1 and febre==1 and resp==1:\n",
    "        suspeitos +=1 \n",
    "\n",
    "    resp = input(\"Ainda a pacientes a serem atendidos?(S/N)\")\n",
    "    if resp.upper () == \"N\":\n",
    "        break\n",
    "\n",
    "    print(\"suspeitos de covid-19: \", (suspeitos))"
   ]
  },
  {
   "attachments": {},
   "cell_type": "markdown",
   "metadata": {},
   "source": [
    "Execicio de Fixação"
   ]
  },
  {
   "cell_type": "code",
   "execution_count": 7,
   "metadata": {},
   "outputs": [
    {
     "name": "stdout",
     "output_type": "stream",
     "text": [
      "execicio 1\n"
     ]
    },
    {
     "ename": "TypeError",
     "evalue": "'int' object is not iterable",
     "output_type": "error",
     "traceback": [
      "\u001b[0;31m---------------------------------------------------------------------------\u001b[0m",
      "\u001b[0;31mTypeError\u001b[0m                                 Traceback (most recent call last)",
      "Cell \u001b[0;32mIn[7], line 6\u001b[0m\n\u001b[1;32m      3\u001b[0m \u001b[39mprint\u001b[39m(\u001b[39m\"\u001b[39m\u001b[39mexecicio 1\u001b[39m\u001b[39m\"\u001b[39m)\n\u001b[1;32m      5\u001b[0m x\u001b[39m=\u001b[39m \u001b[39m0\u001b[39m\n\u001b[0;32m----> 6\u001b[0m \u001b[39mfor\u001b[39;00m n \u001b[39min\u001b[39;00m x:\n\u001b[1;32m      7\u001b[0m     x \u001b[39m+\u001b[39m\u001b[39m=\u001b[39m n\n\u001b[1;32m      8\u001b[0m     \u001b[39mprint\u001b[39m(x)\n",
      "\u001b[0;31mTypeError\u001b[0m: 'int' object is not iterable"
     ]
    }
   ],
   "source": [
    "#Execicio 1\n",
    "\n",
    "print(\"execicio 1\")\n",
    " \n",
    "x= 0\n",
    "for n in x:\n",
    "    x += n\n",
    "    print(x)\n"
   ]
  },
  {
   "cell_type": "code",
   "execution_count": null,
   "metadata": {},
   "outputs": [],
   "source": [
    "#Execicio 2"
   ]
  },
  {
   "cell_type": "code",
   "execution_count": 2,
   "metadata": {},
   "outputs": [
    {
     "name": "stdout",
     "output_type": "stream",
     "text": [
      "Opção invalida\n"
     ]
    }
   ],
   "source": [
    "#Execicio 3\n",
    "\n",
    "rapazes_maiores = 0 \n",
    "soma_moças = 0\n",
    "moças = 0\n",
    "\n",
    "while True:\n",
    "    sexo = input(\"Digite o sexo (F/M)\")\n",
    "\n",
    "    idade = int(input(\"Digite sua idade\"))\n",
    "\n",
    "    if idade <= 0:\n",
    "        break\n",
    "\n",
    "    if sexo.upper() == \"M\":\n",
    "        if idade> 18:\n",
    "            rapazes_maiores += 1\n",
    "\n",
    "\n",
    "\n",
    "    elif sexo.upper() == \"F\":\n",
    "        soma_moças += idade\n",
    "        moças+= 1\n",
    "\n",
    "\n",
    "    else:\n",
    "        print(\"Opção invalida\")\n",
    "\n",
    "if moças >0:\n",
    "    media = soma_moças/ moças\n",
    "\n",
    "print (\"rapazes maiores de 18 anos\", rapazes_maiores)\n",
    "\n",
    "print (\"a soma das idades das moças e de\", soma_moças)"
   ]
  },
  {
   "cell_type": "code",
   "execution_count": 2,
   "metadata": {},
   "outputs": [
    {
     "name": "stdout",
     "output_type": "stream",
     "text": [
      "16\n"
     ]
    }
   ],
   "source": [
    "soma = 0\n",
    "num = 1\n",
    "\n",
    "for x in range (5):\n",
    "    if soma < 10:\n",
    "        soma += num\n",
    "    num +=2\n",
    "\n",
    "print(soma)"
   ]
  },
  {
   "attachments": {},
   "cell_type": "markdown",
   "metadata": {},
   "source": [
    "Vetores"
   ]
  },
  {
   "cell_type": "code",
   "execution_count": 5,
   "metadata": {},
   "outputs": [
    {
     "name": "stdout",
     "output_type": "stream",
     "text": [
      "7.1\n",
      "8.3\n",
      "7.1\n",
      "7.5\n",
      "4\n"
     ]
    }
   ],
   "source": [
    "#Criando uma lista vazia \n",
    "\n",
    "notas = []\n",
    "\n",
    "# Adicionado elementos a lista\n",
    "\n",
    "notas = [8.3, 7.1, 2.25, 4]\n",
    "\n",
    "# Acessando m elemento da lista\n",
    "print(notas[1])\n",
    "\n",
    "#Mundando elementos de uma lista\n",
    "notas[2] = 7.5\n",
    "\n",
    "for bim in range(4):\n",
    "    print(notas[bim])"
   ]
  },
  {
   "cell_type": "code",
   "execution_count": 9,
   "metadata": {},
   "outputs": [
    {
     "name": "stdout",
     "output_type": "stream",
     "text": [
      "São Paulo\n",
      "Vitoria\n",
      "São Paulo\n",
      "Rio de Janeiro\n",
      "Vitoria\n",
      "Minas Gerais\n"
     ]
    }
   ],
   "source": [
    "# Execicio de fixação\n",
    "\n",
    "nomes_estados_sudestre = []\n",
    "\n",
    "nomes_estados_sudestre = [\"São Paulo\",\"Rio de Janeiro\", \"Espirito Santos\", \"Minas Gerais\"]\n",
    "\n",
    "print(nomes_estados_sudestre[0])\n",
    "\n",
    "nomes_estados_sudestre [2] = \"Vitoria\"\n",
    "\n",
    "print(nomes_estados_sudestre[2])\n",
    "\n",
    "for bim in range(4):\n",
    "    print(nomes_estados_sudestre[bim])"
   ]
  },
  {
   "cell_type": "code",
   "execution_count": 24,
   "metadata": {},
   "outputs": [
    {
     "name": "stdout",
     "output_type": "stream",
     "text": [
      "Rita\n",
      "Maria\n",
      "Celina\n",
      "Sofia\n"
     ]
    }
   ],
   "source": [
    "linda =[]\n",
    "\n",
    "linda.append(\"Rita\")\n",
    "linda.append(\"Maria\")\n",
    "linda.append(\"Celina\")\n",
    "\n",
    "linda.insert(3, \"Sofia\")\n",
    "\n",
    "for elas in range (4):\n",
    "    print(linda[elas])"
   ]
  },
  {
   "cell_type": "code",
   "execution_count": 17,
   "metadata": {},
   "outputs": [
    {
     "name": "stdout",
     "output_type": "stream",
     "text": [
      "Rita\n",
      "Sofia\n"
     ]
    }
   ],
   "source": [
    "lindas = []\n",
    "\n",
    "while True:\n",
    "    nome = input(\"Digite o nome de uma linda: \")\n",
    "    lindas.append(nome)\n",
    "\n",
    "    resp = input (\"DEseja continuar (S/N)?\")\n",
    "    if resp.upper () == \"N\":\n",
    "            break\n",
    "    \n",
    "for nome in lindas:\n",
    "      print(nome)\n",
    "      "
   ]
  },
  {
   "attachments": {},
   "cell_type": "markdown",
   "metadata": {},
   "source": [
    "Como ordenar e embaralhar elementos de uma lista "
   ]
  },
  {
   "cell_type": "code",
   "execution_count": 8,
   "metadata": {},
   "outputs": [
    {
     "name": "stdout",
     "output_type": "stream",
     "text": [
      "Pipa\n",
      "Maracaju\n",
      "Ponte Negra\n",
      "Genipabu\n"
     ]
    }
   ],
   "source": [
    "praia_RN = []\n",
    "\n",
    "#Forma 1\n",
    "praia_RN = [\"Pipa\"]\n",
    "\n",
    "#Forma 2\n",
    "praia_RN.append(\"Maracaju\")\n",
    "praia_RN.append(\"Genipabu\")\n",
    "\n",
    "#Forma 3\n",
    "praia_RN.insert(2, \"Ponte Negra\")\n",
    "\n",
    "#Forma de ordena alfabeticamente\n",
    "#praia_RN.sort()\n",
    "\n",
    "#Forma de ordena alfabeticamente\n",
    "#praia_RN.sort(reverse = True)\n",
    "\n",
    "import random\n",
    "random.shuffle = (praia_RN)\n",
    "\n",
    "for praia in praia_RN:\n",
    "    print(praia)"
   ]
  },
  {
   "cell_type": "code",
   "execution_count": 12,
   "metadata": {},
   "outputs": [
    {
     "name": "stdout",
     "output_type": "stream",
     "text": [
      "Ana\n",
      "Pera\n"
     ]
    }
   ],
   "source": [
    "#Execicio de Fixação\n",
    "\n",
    "lista_alunos =[]\n",
    "\n",
    "while True:\n",
    "    nomes = input(\"Digite o nome do aluno\")\n",
    "    lista_alunos.append(nomes)\n",
    "\n",
    "    resp = input(\"possui mais algum nome? (S/N)\")\n",
    "    if resp.upper () == \"N\":\n",
    "            break\n",
    "\n",
    "lista_alunos.sort()\n",
    "\n",
    "for nomes in lista_alunos:\n",
    "      print(nomes)\n",
    "      \n",
    "\n",
    "    "
   ]
  },
  {
   "attachments": {},
   "cell_type": "markdown",
   "metadata": {},
   "source": [
    "Contar a quantidade de elementos de uma lista"
   ]
  },
  {
   "cell_type": "code",
   "execution_count": 14,
   "metadata": {},
   "outputs": [
    {
     "name": "stdout",
     "output_type": "stream",
     "text": [
      "5\n",
      "2\n"
     ]
    }
   ],
   "source": [
    "Idade_alunos = []\n",
    "\n",
    "Idade_alunos.append(17)\n",
    "Idade_alunos.append(23)\n",
    "Idade_alunos.append(19)\n",
    "Idade_alunos.append(22)\n",
    "Idade_alunos.append(19)\n",
    "\n",
    "print(len(Idade_alunos))\n",
    "print(Idade_alunos.count(19))"
   ]
  },
  {
   "attachments": {},
   "cell_type": "markdown",
   "metadata": {},
   "source": [
    "Calculo a soma e media de uma lista "
   ]
  },
  {
   "cell_type": "code",
   "execution_count": 16,
   "metadata": {},
   "outputs": [
    {
     "name": "stdout",
     "output_type": "stream",
     "text": [
      "17\n",
      "23\n",
      "100\n",
      "20.0\n"
     ]
    }
   ],
   "source": [
    "Idade_alunos = []\n",
    "\n",
    "Idade_alunos.append(17)\n",
    "Idade_alunos.append(23)\n",
    "Idade_alunos.append(19)\n",
    "Idade_alunos.append(22)\n",
    "Idade_alunos.append(19)\n",
    "\n",
    "#Calculo do minimo\n",
    "print(min(Idade_alunos))\n",
    "\n",
    "#Calculo do maximo\n",
    "print(max(Idade_alunos))\n",
    "\n",
    "#Calculo da soma \n",
    "print(sum(Idade_alunos))\n",
    "\n",
    "#Calclo para media \n",
    "\n",
    "print(sum(Idade_alunos) / len(Idade_alunos))"
   ]
  },
  {
   "cell_type": "code",
   "execution_count": 23,
   "metadata": {},
   "outputs": [
    {
     "name": "stdout",
     "output_type": "stream",
     "text": [
      "['Leticia', 'Henrique', 'Beatriz', 'Ana']\n",
      "['Henrique', 'Beatriz', 'Ana']\n",
      "[]\n"
     ]
    }
   ],
   "source": [
    "alunos = []\n",
    "alunos = [\"Leticia\"]\n",
    "alunos.append(\"Henrique\")\n",
    "alunos.append(\"Beatriz\")\n",
    "alunos.append(\"Ana\")\n",
    "alunos.insert(4, \"Ana carla\")\n",
    "\n",
    "\n",
    "\n",
    "alunos.pop()\n",
    "print(alunos)\n",
    "\n",
    "alunos.remove(\"Leticia\")\n",
    "print(alunos)\n",
    "\n",
    "alunos.clear()\n",
    "print(alunos)"
   ]
  },
  {
   "cell_type": "code",
   "execution_count": 32,
   "metadata": {},
   "outputs": [
    {
     "name": "stdout",
     "output_type": "stream",
     "text": [
      "melhor nadadora é: Victoria\n",
      "pior nadadora é: Karol\n"
     ]
    }
   ],
   "source": [
    "\n",
    "##for i in range(5)\n",
    "#    nome = input(\"nome:\")\n",
    "#    t = float(input('tempo: '))\n",
    "#\n",
    "##nadadoras.append(nome)\n",
    "#tempo.append(t)\n",
    "\n",
    "nadadoras = [\"Luiza\", \"Alexandra\", \"Victoria\", \"Karol\", \"Beatriz\"]\n",
    "tempo =     [17.3   ,  15        ,  13       ,  19    ,  16]  \n",
    "\n",
    "indice_melhor_tempo =tempo.index (min(tempo))\n",
    "\n",
    "indice_pior_tempo = tempo.index(max(tempo))\n",
    "\n",
    "\n",
    "print(f'melhor nadadora é: {nadadoras[indice_melhor_tempo]}')\n",
    "\n",
    "print(f'pior nadadora é: {nadadoras[indice_pior_tempo]}')"
   ]
  },
  {
   "cell_type": "code",
   "execution_count": 34,
   "metadata": {},
   "outputs": [
    {
     "name": "stdout",
     "output_type": "stream",
     "text": [
      "0 - lapis\n",
      "1 - borracha\n",
      "2 - caneta\n"
     ]
    }
   ],
   "source": [
    "produtos = []\n",
    "\n",
    "while True:\n",
    "    nome = input(\"nome:\")\n",
    "    produtos.append(nome)\n",
    "    resp = input(\"Deseja continuar(S|N)?\")\n",
    "    if resp.upper() == \"N\":\n",
    "        break\n",
    "\n",
    "qtdeelem = len(produtos)\n",
    "for ind in range(qtdeelem):\n",
    "    print(f'{ind} - {produtos[ind]}')\n"
   ]
  },
  {
   "cell_type": "code",
   "execution_count": 39,
   "metadata": {},
   "outputs": [
    {
     "name": "stdout",
     "output_type": "stream",
     "text": [
      "0\n",
      "1\n",
      "1\n"
     ]
    }
   ],
   "source": [
    "#Execicio de fixaão\n",
    "primeiro = int(input(\"Digite o primeiro termo da PA:\"))\n",
    "n = int(input(\"digite a quantidade de termos\"))\n",
    "razao = int(input(\"digite a razão da pa:\"))\n",
    "soma = 0\n",
    "\n",
    "ultimo = primeiro + (n-1) * razao\n",
    "ultimo = ultimo + 1\n",
    "\n",
    "for var in range (primeiro, ultimo, razao):\n",
    "    print(var)\n",
    "    \n",
    "soma = soma + var\n",
    "print(soma)\n"
   ]
  },
  {
   "cell_type": "code",
   "execution_count": 13,
   "metadata": {},
   "outputs": [
    {
     "ename": "SyntaxError",
     "evalue": "invalid syntax (4039288480.py, line 8)",
     "output_type": "error",
     "traceback": [
      "\u001b[0;36m  Cell \u001b[0;32mIn[13], line 8\u001b[0;36m\u001b[0m\n\u001b[0;31m    indice_melhor_tempo = tempo.index(min{tempo})\u001b[0m\n\u001b[0m                                         ^\u001b[0m\n\u001b[0;31mSyntaxError\u001b[0m\u001b[0;31m:\u001b[0m invalid syntax\n"
     ]
    }
   ],
   "source": [
    "nadadoras = []\n",
    "tempo =     []  \n",
    "\n",
    "nadadoras = input(\"Digite o nome da nadadora\")\n",
    "tempo = float(input(\"digite o tempo\"))\n",
    "    \n",
    "\n",
    "indice_melhor_tempo = tempo.index(min{tempo})\n",
    "indice_pior_tempo = tempo.index(max(tempo))\n",
    "\n",
    "\n",
    "print(f'melhor nadadora é: {nadadoras[indice_melhor_tempo]}')\n",
    "\n",
    "print(f'pior nadadora é: {nadadoras[indice_pior_tempo]}')"
   ]
  },
  {
   "cell_type": "code",
   "execution_count": 15,
   "metadata": {},
   "outputs": [
    {
     "name": "stdout",
     "output_type": "stream",
     "text": [
      "3\n"
     ]
    }
   ],
   "source": [
    "\n",
    "lista = []\n",
    "compra_lista = input(\"digite seu nome:\")\n",
    "sorteado = compra_lista.index(compra_lista)\n",
    "\n",
    "import random\n",
    "lista = [1,2,3,4,5]\n",
    "\n",
    "random.shuffle(lista)\n",
    "sorteado = random.choice(lista)\n",
    "\n",
    "print(sorteado)"
   ]
  },
  {
   "cell_type": "code",
   "execution_count": 30,
   "metadata": {},
   "outputs": [
    {
     "name": "stdout",
     "output_type": "stream",
     "text": [
      "5\n",
      "[4, 5, 6]! = 5\n"
     ]
    }
   ],
   "source": [
    "N = int(input(\"Digite um valor de N impar maior que 1:\"))\n",
    "if N > 1 and N % 2 !=0: \n",
    "    num_validos = 0\n",
    "    valores = []\n",
    "    while num_validos < N:\n",
    "        num = int(input(\"digite um numero possitivo\"))\n",
    "        if num > 0:\n",
    "            num_validos += 1\n",
    "            valores.append(num)\n",
    "\n",
    "    indice_centro = int(len(valores)/2)\n",
    "    print(valores[indice_centro])\n",
    "    fat = 1\n",
    "    \n",
    "    for n in range (1,valores[indice_centro] +1):\n",
    "        fat = fat*n\n",
    "        \n",
    "    print(f'{valores}! = {valores[indice_centro],fat}')\n",
    "\n",
    "\n",
    "else:\n",
    "    print(\"Você não informou e um valor de N impar maior que 1:\")   \n",
    "\n"
   ]
  },
  {
   "cell_type": "code",
   "execution_count": 34,
   "metadata": {},
   "outputs": [
    {
     "name": "stdout",
     "output_type": "stream",
     "text": [
      "50.0\n"
     ]
    }
   ],
   "source": [
    "notas = []\n",
    "notas.append(50)\n",
    "notas.append(70)\n",
    "notas.append(30)\n",
    "\n",
    "media = sum(notas) / len(notas)\n",
    "\n",
    "print(media)"
   ]
  },
  {
   "cell_type": "code",
   "execution_count": 35,
   "metadata": {},
   "outputs": [
    {
     "ename": "SyntaxError",
     "evalue": "invalid syntax (3270922184.py, line 4)",
     "output_type": "error",
     "traceback": [
      "\u001b[0;36m  Cell \u001b[0;32mIn[35], line 4\u001b[0;36m\u001b[0m\n\u001b[0;31m    it pesquisa in paise:\u001b[0m\n\u001b[0m       ^\u001b[0m\n\u001b[0;31mSyntaxError\u001b[0m\u001b[0;31m:\u001b[0m invalid syntax\n"
     ]
    }
   ],
   "source": []
  }
 ],
 "metadata": {
  "kernelspec": {
   "display_name": "Python 3",
   "language": "python",
   "name": "python3"
  },
  "language_info": {
   "codemirror_mode": {
    "name": "ipython",
    "version": 3
   },
   "file_extension": ".py",
   "mimetype": "text/x-python",
   "name": "python",
   "nbconvert_exporter": "python",
   "pygments_lexer": "ipython3",
   "version": "3.8.10"
  },
  "orig_nbformat": 4
 },
 "nbformat": 4,
 "nbformat_minor": 2
}
